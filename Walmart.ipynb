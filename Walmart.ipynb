{
 "cells": [
  {
   "cell_type": "code",
   "execution_count": 85,
   "id": "17262298-9cb9-4d7d-b535-6254d442cb53",
   "metadata": {},
   "outputs": [],
   "source": [
    "import pandas as pd\n",
    "import matplotlib.pyplot as plt\n",
    "import seaborn as sns\n",
    "from sklearn.model_selection import train_test_split"
   ]
  },
  {
   "cell_type": "code",
   "execution_count": 86,
   "id": "81be858f-236d-49ae-9291-bb969fe754c4",
   "metadata": {},
   "outputs": [],
   "source": [
    "import pandas as pd\n",
    "df = pd.read_csv(r\"C:/Users/admin/Desktop/Project2/Walmart-Sales-Data-Analysis--SQL-Project-main/Walmart Sales Data.csv.csv\")"
   ]
  },
  {
   "cell_type": "code",
   "execution_count": 87,
   "id": "f942b6f4-efe1-44b5-96db-84e4a48674f8",
   "metadata": {},
   "outputs": [
    {
     "name": "stdout",
     "output_type": "stream",
     "text": [
      "    Invoice ID Branch       City Customer type  Gender  \\\n",
      "0  750-67-8428      A     Yangon        Member  Female   \n",
      "1  226-31-3081      C  Naypyitaw        Normal  Female   \n",
      "2  631-41-3108      A     Yangon        Normal    Male   \n",
      "3  123-19-1176      A     Yangon        Member    Male   \n",
      "4  373-73-7910      A     Yangon        Normal    Male   \n",
      "\n",
      "             Product line  Unit price  Quantity   Tax 5%     Total  \\\n",
      "0       Health and beauty       74.69         7  26.1415  548.9715   \n",
      "1  Electronic accessories       15.28         5   3.8200   80.2200   \n",
      "2      Home and lifestyle       46.33         7  16.2155  340.5255   \n",
      "3       Health and beauty       58.22         8  23.2880  489.0480   \n",
      "4       Sports and travel       86.31         7  30.2085  634.3785   \n",
      "\n",
      "         Date      Time      Payment    cogs  gross margin percentage  \\\n",
      "0  2019-01-05  13:08:00      Ewallet  522.83                 4.761905   \n",
      "1  2019-03-08  10:29:00         Cash   76.40                 4.761905   \n",
      "2  2019-03-03  13:23:00  Credit card  324.31                 4.761905   \n",
      "3  2019-01-27  20:33:00      Ewallet  465.76                 4.761905   \n",
      "4  2019-02-08  10:37:00      Ewallet  604.17                 4.761905   \n",
      "\n",
      "   gross income  Rating  \n",
      "0       26.1415     9.1  \n",
      "1        3.8200     9.6  \n",
      "2       16.2155     7.4  \n",
      "3       23.2880     8.4  \n",
      "4       30.2085     5.3  \n"
     ]
    }
   ],
   "source": [
    "print(df.head())"
   ]
  },
  {
   "cell_type": "code",
   "execution_count": 88,
   "id": "21fb4771-6746-41c2-95fa-8178eb334232",
   "metadata": {},
   "outputs": [],
   "source": [
    "df['Date'] = pd.to_datetime(df['Date'])\n",
    "df['Time'] = pd.to_datetime(df['Time'], format='%H:%M:%S').dt.time"
   ]
  },
  {
   "cell_type": "code",
   "execution_count": 89,
   "id": "814affe1-eb35-4c6b-9942-9197e9e4131d",
   "metadata": {},
   "outputs": [],
   "source": [
    "df['Day'] = df['Date'].dt.day\n",
    "df['Month'] = df['Date'].dt.month\n",
    "df['Year'] = df['Date'].dt.year\n",
    "df['Weekday'] = df['Date'].dt.day_name()\n",
    "df['Hour'] = pd.to_datetime(df['Time'], format='%H:%M:%S').dt.hour"
   ]
  },
  {
   "cell_type": "code",
   "execution_count": 90,
   "id": "e12a99ce-fee3-4024-a511-12cec2fb790a",
   "metadata": {},
   "outputs": [
    {
     "name": "stdout",
     "output_type": "stream",
     "text": [
      "Invoice ID                 0\n",
      "Branch                     0\n",
      "City                       0\n",
      "Customer type              0\n",
      "Gender                     0\n",
      "Product line               0\n",
      "Unit price                 0\n",
      "Quantity                   0\n",
      "Tax 5%                     0\n",
      "Total                      0\n",
      "Date                       0\n",
      "Time                       0\n",
      "Payment                    0\n",
      "cogs                       0\n",
      "gross margin percentage    0\n",
      "gross income               0\n",
      "Rating                     0\n",
      "Day                        0\n",
      "Month                      0\n",
      "Year                       0\n",
      "Weekday                    0\n",
      "Hour                       0\n",
      "dtype: int64\n"
     ]
    }
   ],
   "source": [
    "print(df.isnull().sum())"
   ]
  },
  {
   "cell_type": "code",
   "execution_count": 91,
   "id": "1d12ef34-e94d-4974-a18f-887eaf7b1c3e",
   "metadata": {},
   "outputs": [
    {
     "name": "stdout",
     "output_type": "stream",
     "text": [
      "         Invoice ID Branch    City Customer type  Gender         Product line  \\\n",
      "count          1000   1000    1000          1000    1000                 1000   \n",
      "unique         1000      3       3             2       2                    6   \n",
      "top     849-09-3807      A  Yangon        Member  Female  Fashion accessories   \n",
      "freq              1    340     340           501     501                  178   \n",
      "mean            NaN    NaN     NaN           NaN     NaN                  NaN   \n",
      "min             NaN    NaN     NaN           NaN     NaN                  NaN   \n",
      "25%             NaN    NaN     NaN           NaN     NaN                  NaN   \n",
      "50%             NaN    NaN     NaN           NaN     NaN                  NaN   \n",
      "75%             NaN    NaN     NaN           NaN     NaN                  NaN   \n",
      "max             NaN    NaN     NaN           NaN     NaN                  NaN   \n",
      "std             NaN    NaN     NaN           NaN     NaN                  NaN   \n",
      "\n",
      "         Unit price     Quantity       Tax 5%        Total  ...  Payment  \\\n",
      "count   1000.000000  1000.000000  1000.000000  1000.000000  ...     1000   \n",
      "unique          NaN          NaN          NaN          NaN  ...        3   \n",
      "top             NaN          NaN          NaN          NaN  ...  Ewallet   \n",
      "freq            NaN          NaN          NaN          NaN  ...      345   \n",
      "mean      55.672130     5.510000    15.379369   322.966749  ...      NaN   \n",
      "min       10.080000     1.000000     0.508500    10.678500  ...      NaN   \n",
      "25%       32.875000     3.000000     5.924875   124.422375  ...      NaN   \n",
      "50%       55.230000     5.000000    12.088000   253.848000  ...      NaN   \n",
      "75%       77.935000     8.000000    22.445250   471.350250  ...      NaN   \n",
      "max       99.960000    10.000000    49.650000  1042.650000  ...      NaN   \n",
      "std       26.494628     2.923431    11.708825   245.885335  ...      NaN   \n",
      "\n",
      "              cogs gross margin percentage  gross income      Rating  \\\n",
      "count   1000.00000             1000.000000   1000.000000  1000.00000   \n",
      "unique         NaN                     NaN           NaN         NaN   \n",
      "top            NaN                     NaN           NaN         NaN   \n",
      "freq           NaN                     NaN           NaN         NaN   \n",
      "mean     307.58738                4.761905     15.379369     6.97270   \n",
      "min       10.17000                4.761905      0.508500     4.00000   \n",
      "25%      118.49750                4.761905      5.924875     5.50000   \n",
      "50%      241.76000                4.761905     12.088000     7.00000   \n",
      "75%      448.90500                4.761905     22.445250     8.50000   \n",
      "max      993.00000                4.761905     49.650000    10.00000   \n",
      "std      234.17651                0.000000     11.708825     1.71858   \n",
      "\n",
      "                Day        Month    Year   Weekday         Hour  \n",
      "count   1000.000000  1000.000000  1000.0      1000  1000.000000  \n",
      "unique          NaN          NaN     NaN         7          NaN  \n",
      "top             NaN          NaN     NaN  Saturday          NaN  \n",
      "freq            NaN          NaN     NaN       164          NaN  \n",
      "mean      15.256000     1.993000  2019.0       NaN    14.910000  \n",
      "min        1.000000     1.000000  2019.0       NaN    10.000000  \n",
      "25%        8.000000     1.000000  2019.0       NaN    12.000000  \n",
      "50%       15.000000     2.000000  2019.0       NaN    15.000000  \n",
      "75%       23.000000     3.000000  2019.0       NaN    18.000000  \n",
      "max       31.000000     3.000000  2019.0       NaN    20.000000  \n",
      "std        8.693563     0.835254     0.0       NaN     3.186857  \n",
      "\n",
      "[11 rows x 22 columns]\n"
     ]
    }
   ],
   "source": [
    "print(df.describe(include='all'))"
   ]
  },
  {
   "cell_type": "code",
   "execution_count": 92,
   "id": "0c611b0a-48a7-4380-808c-5aa28e8966f1",
   "metadata": {},
   "outputs": [
    {
     "name": "stdout",
     "output_type": "stream",
     "text": [
      "Total Sales by Product Line:\n",
      " Product line\n",
      "Food and beverages        56144.8440\n",
      "Sports and travel         55122.8265\n",
      "Electronic accessories    54337.5315\n",
      "Fashion accessories       54305.8950\n",
      "Home and lifestyle        53861.9130\n",
      "Health and beauty         49193.7390\n",
      "Name: Total, dtype: float64\n"
     ]
    }
   ],
   "source": [
    "sales_by_product = df.groupby(\"Product line\")[\"Total\"].sum().sort_values(ascending=False)\n",
    "print(\"Total Sales by Product Line:\\n\", sales_by_product)"
   ]
  },
  {
   "cell_type": "code",
   "execution_count": 93,
   "id": "8543fd7a-22e1-4dcd-92b0-ee51a2fcc0eb",
   "metadata": {},
   "outputs": [
    {
     "name": "stdout",
     "output_type": "stream",
     "text": [
      "Monthly Sales:\n",
      " Month\n",
      "1    116291.868\n",
      "2     97219.374\n",
      "3    109455.507\n",
      "Name: Total, dtype: float64\n"
     ]
    }
   ],
   "source": [
    "monthly_sales = df.groupby(\"Month\")[\"Total\"].sum()\n",
    "print(\"Monthly Sales:\\n\", monthly_sales)"
   ]
  },
  {
   "cell_type": "code",
   "execution_count": 94,
   "id": "204db108-c2de-4e97-867d-e1d638891771",
   "metadata": {},
   "outputs": [
    {
     "name": "stdout",
     "output_type": "stream",
     "text": [
      "Average Rating by Product Line:\n",
      " Product line\n",
      "Food and beverages        7.113218\n",
      "Fashion accessories       7.029213\n",
      "Health and beauty         7.003289\n",
      "Electronic accessories    6.924706\n",
      "Sports and travel         6.916265\n",
      "Home and lifestyle        6.837500\n",
      "Name: Rating, dtype: float64\n"
     ]
    }
   ],
   "source": [
    "avg_rating = df.groupby(\"Product line\")[\"Rating\"].mean().sort_values(ascending=False)\n",
    "print(\"Average Rating by Product Line:\\n\", avg_rating)"
   ]
  },
  {
   "cell_type": "code",
   "execution_count": 95,
   "id": "e124af94-bbc9-4a98-a425-b2a1721a006b",
   "metadata": {},
   "outputs": [
    {
     "name": "stdout",
     "output_type": "stream",
     "text": [
      "Gender-wise Payment Preferences:\n",
      " Payment  Cash  Credit card  Ewallet\n",
      "Gender                             \n",
      "Female    178          163      160\n",
      "Male      166          148      185\n"
     ]
    }
   ],
   "source": [
    "gender_payment = df.groupby([\"Gender\", \"Payment\"]).size().unstack()\n",
    "print(\"Gender-wise Payment Preferences:\\n\", gender_payment)"
   ]
  },
  {
   "cell_type": "code",
   "execution_count": 96,
   "id": "8e657881-cf15-4266-a076-6d532b7e7f0d",
   "metadata": {},
   "outputs": [
    {
     "name": "stdout",
     "output_type": "stream",
     "text": [
      "Customer Transactions by Hour:\n",
      " Hour\n",
      "10    101\n",
      "11     90\n",
      "12     89\n",
      "13    103\n",
      "14     83\n",
      "15    102\n",
      "16     77\n",
      "17     74\n",
      "18     93\n",
      "19    113\n",
      "20     75\n",
      "Name: count, dtype: int64\n"
     ]
    }
   ],
   "source": [
    "hourly_traffic = df['Hour'].value_counts().sort_index()\n",
    "print(\"Customer Transactions by Hour:\\n\", hourly_traffic)"
   ]
  },
  {
   "cell_type": "code",
   "execution_count": 97,
   "id": "a3b848d2-129e-4856-9d5b-76526f426cf7",
   "metadata": {},
   "outputs": [
    {
     "name": "stdout",
     "output_type": "stream",
     "text": [
      "Top 5 Cities by Total Sales:\n",
      " City\n",
      "Naypyitaw    110568.7065\n",
      "Yangon       106200.3705\n",
      "Mandalay     106197.6720\n",
      "Name: Total, dtype: float64\n"
     ]
    }
   ],
   "source": [
    "city_sales = df.groupby(\"City\")[\"Total\"].sum().sort_values(ascending=False).head(5)\n",
    "print(\"Top 5 Cities by Total Sales:\\n\", city_sales)"
   ]
  },
  {
   "cell_type": "code",
   "execution_count": 98,
   "id": "234c2d03-33ba-4253-8ac2-cfcc69b5d87e",
   "metadata": {},
   "outputs": [
    {
     "data": {
      "text/plain": [
       "1000"
      ]
     },
     "execution_count": 98,
     "metadata": {},
     "output_type": "execute_result"
    }
   ],
   "source": [
    "import sqlite3\n",
    "conn = sqlite3.connect(\"walmart_sales.db\") \n",
    "df.to_sql(\"sales\", conn, if_exists=\"replace\", index=False)"
   ]
  },
  {
   "cell_type": "code",
   "execution_count": 99,
   "id": "106db426-ef11-434d-96df-3491b177b7cb",
   "metadata": {},
   "outputs": [
    {
     "name": "stdout",
     "output_type": "stream",
     "text": [
      "        City  Total_Sales\n",
      "0  Naypyitaw  110568.7065\n",
      "1     Yangon  106200.3705\n",
      "2   Mandalay  106197.6720\n"
     ]
    }
   ],
   "source": [
    "query1 = \"\"\"\n",
    "SELECT City, SUM(Total) AS Total_Sales\n",
    "FROM sales\n",
    "GROUP BY City\n",
    "ORDER BY Total_Sales DESC\n",
    "LIMIT 5;\n",
    "\"\"\"\n",
    "result1 = pd.read_sql(query1, conn)\n",
    "print(result1)"
   ]
  },
  {
   "cell_type": "code",
   "execution_count": 100,
   "id": "621b3615-6490-4d2f-8a6f-fa7251343644",
   "metadata": {},
   "outputs": [
    {
     "name": "stdout",
     "output_type": "stream",
     "text": [
      "             Product line  Avg_Rating\n",
      "0      Food and beverages        7.11\n",
      "1     Fashion accessories        7.03\n",
      "2       Health and beauty        7.00\n",
      "3       Sports and travel        6.92\n",
      "4  Electronic accessories        6.92\n",
      "5      Home and lifestyle        6.84\n"
     ]
    }
   ],
   "source": [
    "query2 = \"\"\"\n",
    "SELECT [Product line], ROUND(AVG(Rating), 2) AS Avg_Rating\n",
    "FROM sales\n",
    "GROUP BY [Product line]\n",
    "ORDER BY Avg_Rating DESC;\n",
    "\"\"\"\n",
    "result2 = pd.read_sql(query2, conn)\n",
    "print(result2)"
   ]
  },
  {
   "cell_type": "code",
   "execution_count": 101,
   "id": "18121608-49eb-4dac-b5e4-560972b2f82a",
   "metadata": {},
   "outputs": [
    {
     "name": "stdout",
     "output_type": "stream",
     "text": [
      "       Payment  Count\n",
      "0      Ewallet    345\n",
      "1         Cash    344\n",
      "2  Credit card    311\n"
     ]
    }
   ],
   "source": [
    "query3 = \"\"\"\n",
    "SELECT Payment, COUNT(*) AS Count\n",
    "FROM sales\n",
    "GROUP BY Payment\n",
    "ORDER BY Count DESC;\n",
    "\"\"\"\n",
    "result3 = pd.read_sql(query3, conn)\n",
    "print(result3)"
   ]
  },
  {
   "cell_type": "code",
   "execution_count": 102,
   "id": "708c2a5f-2c18-40fe-851a-71bcbbc867ef",
   "metadata": {},
   "outputs": [
    {
     "name": "stdout",
     "output_type": "stream",
     "text": [
      "   Month  Monthly_Sales\n",
      "0      1      116291.87\n",
      "1      2       97219.37\n",
      "2      3      109455.51\n"
     ]
    }
   ],
   "source": [
    "query4 = \"\"\"\n",
    "SELECT Month, ROUND(SUM(Total), 2) AS Monthly_Sales\n",
    "FROM sales\n",
    "GROUP BY Month\n",
    "ORDER BY Month;\n",
    "\"\"\"\n",
    "result4 = pd.read_sql(query4, conn)\n",
    "print(result4)"
   ]
  },
  {
   "cell_type": "code",
   "execution_count": 103,
   "id": "9939c63c-fc24-43e4-b54e-a872f7055ab8",
   "metadata": {},
   "outputs": [],
   "source": [
    "from sklearn.model_selection import train_test_split\n",
    "from sklearn.preprocessing import LabelEncoder, StandardScaler\n",
    "from sklearn.ensemble import RandomForestClassifier\n",
    "from sklearn.metrics import accuracy_score, classification_report, confusion_matrix"
   ]
  },
  {
   "cell_type": "code",
   "execution_count": 104,
   "id": "c6fefb63-3877-4556-ad94-7a7f91837799",
   "metadata": {},
   "outputs": [
    {
     "name": "stdout",
     "output_type": "stream",
     "text": [
      "Data prepared successfully!\n"
     ]
    }
   ],
   "source": [
    "import pandas as pd\n",
    "from sklearn.preprocessing import LabelEncoder\n",
    "\n",
    "df = pd.read_csv(r\"C:/Users/admin/Desktop/Project2/Walmart-Sales-Data-Analysis--SQL-Project-main/Walmart Sales Data.csv.csv\")\n",
    "\n",
    "df['Hour'] = pd.to_datetime(df['Time'], format=\"%H:%M\", errors='coerce').dt.hour\n",
    "\n",
    "df['Month'] = pd.to_datetime(df['Date'], format=\"%m/%d/%Y\", errors='coerce').dt.month\n",
    "\n",
    "X = df[[\"Gender\", \"City\", \"Product line\", \"Payment\", \"Total\", \"Hour\", \"Month\"]].copy()\n",
    "\n",
    "le = LabelEncoder()\n",
    "for col in [\"Gender\", \"City\", \"Product line\", \"Payment\"]:\n",
    "    X[col] = le.fit_transform(X[col])\n",
    "\n",
    "y = df[\"Customer type\"]  \n",
    "\n",
    "df.to_csv(r\"C:/Users/admin/Desktop/Project2/Walmart-Sales-Data-Analysis--SQL-Project-main/cleaned_walmart_data.csv\", index=False)\n",
    "\n",
    "print(\"Data prepared successfully!\")"
   ]
  },
  {
   "cell_type": "code",
   "execution_count": 105,
   "id": "753828db-b0fe-4300-9ab7-414c10a4d96f",
   "metadata": {},
   "outputs": [
    {
     "name": "stdout",
     "output_type": "stream",
     "text": [
      "Index(['Invoice ID', 'Branch', 'City', 'Customer type', 'Gender',\n",
      "       'Product line', 'Unit price', 'Quantity', 'Tax 5%', 'Total', 'Date',\n",
      "       'Time', 'Payment', 'cogs', 'gross margin percentage', 'gross income',\n",
      "       'Rating', 'Hour', 'Month'],\n",
      "      dtype='object')\n"
     ]
    }
   ],
   "source": [
    "print(df.columns)"
   ]
  },
  {
   "cell_type": "code",
   "execution_count": 106,
   "id": "f44abb1f-b900-4c9f-82c6-ab12c8320325",
   "metadata": {},
   "outputs": [],
   "source": [
    "from sklearn.model_selection import train_test_split\n",
    "X_train, X_test, y_train, y_test = train_test_split(X, y, test_size=0.3, random_state=42)"
   ]
  },
  {
   "cell_type": "code",
   "execution_count": 107,
   "id": "17c1ead0-11ba-4f1a-a79e-852f03878bbd",
   "metadata": {
    "scrolled": true
   },
   "outputs": [
    {
     "name": "stdout",
     "output_type": "stream",
     "text": [
      "X_train ke missing values:\n",
      "Gender            0\n",
      "City              0\n",
      "Product line      0\n",
      "Payment           0\n",
      "Total             0\n",
      "Hour            700\n",
      "Month           700\n",
      "dtype: int64\n",
      "X_test ke missing values:\n",
      "Gender            0\n",
      "City              0\n",
      "Product line      0\n",
      "Payment           0\n",
      "Total             0\n",
      "Hour            300\n",
      "Month           300\n",
      "dtype: int64\n"
     ]
    }
   ],
   "source": [
    "import numpy as np\n",
    "import pandas as pd\n",
    "\n",
    "print(\"X_train ke missing values:\")\n",
    "print(pd.DataFrame(X_train).isnull().sum())\n",
    "\n",
    "print(\"X_test ke missing values:\")\n",
    "print(pd.DataFrame(X_test).isnull().sum())"
   ]
  },
  {
   "cell_type": "code",
   "execution_count": 108,
   "id": "c8b503e3-f258-4534-8aa9-892296eaa567",
   "metadata": {},
   "outputs": [],
   "source": [
    "X_train = pd.DataFrame(X_train).dropna()\n",
    "X_test = pd.DataFrame(X_test).dropna()"
   ]
  },
  {
   "cell_type": "code",
   "execution_count": 121,
   "id": "06d4292d-8ea7-451c-a5f3-a199a7ff9cff",
   "metadata": {},
   "outputs": [],
   "source": [
    "import pandas as pd\n",
    "from sklearn.impute import SimpleImputer\n",
    "from sklearn.preprocessing import StandardScaler\n",
    "\n",
    "X_train = pd.DataFrame(X_train).apply(pd.to_numeric, errors='coerce')\n",
    "X_test = pd.DataFrame(X_test).apply(pd.to_numeric, errors='coerce')\n",
    "\n",
    "imputer = SimpleImputer(strategy='mean')\n",
    "X_train = imputer.fit_transform(X_train)\n",
    "X_test = imputer.transform(X_test)\n",
    "\n",
    "scaler = StandardScaler()\n",
    "X_train = scaler.fit_transform(X_train)\n",
    "X_test = scaler.transform(X_test)"
   ]
  },
  {
   "cell_type": "code",
   "execution_count": 122,
   "id": "d302749c-4206-425b-92df-bb675c0a13e5",
   "metadata": {},
   "outputs": [
    {
     "data": {
      "text/html": [
       "<style>#sk-container-id-5 {\n",
       "  /* Definition of color scheme common for light and dark mode */\n",
       "  --sklearn-color-text: #000;\n",
       "  --sklearn-color-text-muted: #666;\n",
       "  --sklearn-color-line: gray;\n",
       "  /* Definition of color scheme for unfitted estimators */\n",
       "  --sklearn-color-unfitted-level-0: #fff5e6;\n",
       "  --sklearn-color-unfitted-level-1: #f6e4d2;\n",
       "  --sklearn-color-unfitted-level-2: #ffe0b3;\n",
       "  --sklearn-color-unfitted-level-3: chocolate;\n",
       "  /* Definition of color scheme for fitted estimators */\n",
       "  --sklearn-color-fitted-level-0: #f0f8ff;\n",
       "  --sklearn-color-fitted-level-1: #d4ebff;\n",
       "  --sklearn-color-fitted-level-2: #b3dbfd;\n",
       "  --sklearn-color-fitted-level-3: cornflowerblue;\n",
       "\n",
       "  /* Specific color for light theme */\n",
       "  --sklearn-color-text-on-default-background: var(--sg-text-color, var(--theme-code-foreground, var(--jp-content-font-color1, black)));\n",
       "  --sklearn-color-background: var(--sg-background-color, var(--theme-background, var(--jp-layout-color0, white)));\n",
       "  --sklearn-color-border-box: var(--sg-text-color, var(--theme-code-foreground, var(--jp-content-font-color1, black)));\n",
       "  --sklearn-color-icon: #696969;\n",
       "\n",
       "  @media (prefers-color-scheme: dark) {\n",
       "    /* Redefinition of color scheme for dark theme */\n",
       "    --sklearn-color-text-on-default-background: var(--sg-text-color, var(--theme-code-foreground, var(--jp-content-font-color1, white)));\n",
       "    --sklearn-color-background: var(--sg-background-color, var(--theme-background, var(--jp-layout-color0, #111)));\n",
       "    --sklearn-color-border-box: var(--sg-text-color, var(--theme-code-foreground, var(--jp-content-font-color1, white)));\n",
       "    --sklearn-color-icon: #878787;\n",
       "  }\n",
       "}\n",
       "\n",
       "#sk-container-id-5 {\n",
       "  color: var(--sklearn-color-text);\n",
       "}\n",
       "\n",
       "#sk-container-id-5 pre {\n",
       "  padding: 0;\n",
       "}\n",
       "\n",
       "#sk-container-id-5 input.sk-hidden--visually {\n",
       "  border: 0;\n",
       "  clip: rect(1px 1px 1px 1px);\n",
       "  clip: rect(1px, 1px, 1px, 1px);\n",
       "  height: 1px;\n",
       "  margin: -1px;\n",
       "  overflow: hidden;\n",
       "  padding: 0;\n",
       "  position: absolute;\n",
       "  width: 1px;\n",
       "}\n",
       "\n",
       "#sk-container-id-5 div.sk-dashed-wrapped {\n",
       "  border: 1px dashed var(--sklearn-color-line);\n",
       "  margin: 0 0.4em 0.5em 0.4em;\n",
       "  box-sizing: border-box;\n",
       "  padding-bottom: 0.4em;\n",
       "  background-color: var(--sklearn-color-background);\n",
       "}\n",
       "\n",
       "#sk-container-id-5 div.sk-container {\n",
       "  /* jupyter's `normalize.less` sets `[hidden] { display: none; }`\n",
       "     but bootstrap.min.css set `[hidden] { display: none !important; }`\n",
       "     so we also need the `!important` here to be able to override the\n",
       "     default hidden behavior on the sphinx rendered scikit-learn.org.\n",
       "     See: https://github.com/scikit-learn/scikit-learn/issues/21755 */\n",
       "  display: inline-block !important;\n",
       "  position: relative;\n",
       "}\n",
       "\n",
       "#sk-container-id-5 div.sk-text-repr-fallback {\n",
       "  display: none;\n",
       "}\n",
       "\n",
       "div.sk-parallel-item,\n",
       "div.sk-serial,\n",
       "div.sk-item {\n",
       "  /* draw centered vertical line to link estimators */\n",
       "  background-image: linear-gradient(var(--sklearn-color-text-on-default-background), var(--sklearn-color-text-on-default-background));\n",
       "  background-size: 2px 100%;\n",
       "  background-repeat: no-repeat;\n",
       "  background-position: center center;\n",
       "}\n",
       "\n",
       "/* Parallel-specific style estimator block */\n",
       "\n",
       "#sk-container-id-5 div.sk-parallel-item::after {\n",
       "  content: \"\";\n",
       "  width: 100%;\n",
       "  border-bottom: 2px solid var(--sklearn-color-text-on-default-background);\n",
       "  flex-grow: 1;\n",
       "}\n",
       "\n",
       "#sk-container-id-5 div.sk-parallel {\n",
       "  display: flex;\n",
       "  align-items: stretch;\n",
       "  justify-content: center;\n",
       "  background-color: var(--sklearn-color-background);\n",
       "  position: relative;\n",
       "}\n",
       "\n",
       "#sk-container-id-5 div.sk-parallel-item {\n",
       "  display: flex;\n",
       "  flex-direction: column;\n",
       "}\n",
       "\n",
       "#sk-container-id-5 div.sk-parallel-item:first-child::after {\n",
       "  align-self: flex-end;\n",
       "  width: 50%;\n",
       "}\n",
       "\n",
       "#sk-container-id-5 div.sk-parallel-item:last-child::after {\n",
       "  align-self: flex-start;\n",
       "  width: 50%;\n",
       "}\n",
       "\n",
       "#sk-container-id-5 div.sk-parallel-item:only-child::after {\n",
       "  width: 0;\n",
       "}\n",
       "\n",
       "/* Serial-specific style estimator block */\n",
       "\n",
       "#sk-container-id-5 div.sk-serial {\n",
       "  display: flex;\n",
       "  flex-direction: column;\n",
       "  align-items: center;\n",
       "  background-color: var(--sklearn-color-background);\n",
       "  padding-right: 1em;\n",
       "  padding-left: 1em;\n",
       "}\n",
       "\n",
       "\n",
       "/* Toggleable style: style used for estimator/Pipeline/ColumnTransformer box that is\n",
       "clickable and can be expanded/collapsed.\n",
       "- Pipeline and ColumnTransformer use this feature and define the default style\n",
       "- Estimators will overwrite some part of the style using the `sk-estimator` class\n",
       "*/\n",
       "\n",
       "/* Pipeline and ColumnTransformer style (default) */\n",
       "\n",
       "#sk-container-id-5 div.sk-toggleable {\n",
       "  /* Default theme specific background. It is overwritten whether we have a\n",
       "  specific estimator or a Pipeline/ColumnTransformer */\n",
       "  background-color: var(--sklearn-color-background);\n",
       "}\n",
       "\n",
       "/* Toggleable label */\n",
       "#sk-container-id-5 label.sk-toggleable__label {\n",
       "  cursor: pointer;\n",
       "  display: flex;\n",
       "  width: 100%;\n",
       "  margin-bottom: 0;\n",
       "  padding: 0.5em;\n",
       "  box-sizing: border-box;\n",
       "  text-align: center;\n",
       "  align-items: start;\n",
       "  justify-content: space-between;\n",
       "  gap: 0.5em;\n",
       "}\n",
       "\n",
       "#sk-container-id-5 label.sk-toggleable__label .caption {\n",
       "  font-size: 0.6rem;\n",
       "  font-weight: lighter;\n",
       "  color: var(--sklearn-color-text-muted);\n",
       "}\n",
       "\n",
       "#sk-container-id-5 label.sk-toggleable__label-arrow:before {\n",
       "  /* Arrow on the left of the label */\n",
       "  content: \"▸\";\n",
       "  float: left;\n",
       "  margin-right: 0.25em;\n",
       "  color: var(--sklearn-color-icon);\n",
       "}\n",
       "\n",
       "#sk-container-id-5 label.sk-toggleable__label-arrow:hover:before {\n",
       "  color: var(--sklearn-color-text);\n",
       "}\n",
       "\n",
       "/* Toggleable content - dropdown */\n",
       "\n",
       "#sk-container-id-5 div.sk-toggleable__content {\n",
       "  max-height: 0;\n",
       "  max-width: 0;\n",
       "  overflow: hidden;\n",
       "  text-align: left;\n",
       "  /* unfitted */\n",
       "  background-color: var(--sklearn-color-unfitted-level-0);\n",
       "}\n",
       "\n",
       "#sk-container-id-5 div.sk-toggleable__content.fitted {\n",
       "  /* fitted */\n",
       "  background-color: var(--sklearn-color-fitted-level-0);\n",
       "}\n",
       "\n",
       "#sk-container-id-5 div.sk-toggleable__content pre {\n",
       "  margin: 0.2em;\n",
       "  border-radius: 0.25em;\n",
       "  color: var(--sklearn-color-text);\n",
       "  /* unfitted */\n",
       "  background-color: var(--sklearn-color-unfitted-level-0);\n",
       "}\n",
       "\n",
       "#sk-container-id-5 div.sk-toggleable__content.fitted pre {\n",
       "  /* unfitted */\n",
       "  background-color: var(--sklearn-color-fitted-level-0);\n",
       "}\n",
       "\n",
       "#sk-container-id-5 input.sk-toggleable__control:checked~div.sk-toggleable__content {\n",
       "  /* Expand drop-down */\n",
       "  max-height: 200px;\n",
       "  max-width: 100%;\n",
       "  overflow: auto;\n",
       "}\n",
       "\n",
       "#sk-container-id-5 input.sk-toggleable__control:checked~label.sk-toggleable__label-arrow:before {\n",
       "  content: \"▾\";\n",
       "}\n",
       "\n",
       "/* Pipeline/ColumnTransformer-specific style */\n",
       "\n",
       "#sk-container-id-5 div.sk-label input.sk-toggleable__control:checked~label.sk-toggleable__label {\n",
       "  color: var(--sklearn-color-text);\n",
       "  background-color: var(--sklearn-color-unfitted-level-2);\n",
       "}\n",
       "\n",
       "#sk-container-id-5 div.sk-label.fitted input.sk-toggleable__control:checked~label.sk-toggleable__label {\n",
       "  background-color: var(--sklearn-color-fitted-level-2);\n",
       "}\n",
       "\n",
       "/* Estimator-specific style */\n",
       "\n",
       "/* Colorize estimator box */\n",
       "#sk-container-id-5 div.sk-estimator input.sk-toggleable__control:checked~label.sk-toggleable__label {\n",
       "  /* unfitted */\n",
       "  background-color: var(--sklearn-color-unfitted-level-2);\n",
       "}\n",
       "\n",
       "#sk-container-id-5 div.sk-estimator.fitted input.sk-toggleable__control:checked~label.sk-toggleable__label {\n",
       "  /* fitted */\n",
       "  background-color: var(--sklearn-color-fitted-level-2);\n",
       "}\n",
       "\n",
       "#sk-container-id-5 div.sk-label label.sk-toggleable__label,\n",
       "#sk-container-id-5 div.sk-label label {\n",
       "  /* The background is the default theme color */\n",
       "  color: var(--sklearn-color-text-on-default-background);\n",
       "}\n",
       "\n",
       "/* On hover, darken the color of the background */\n",
       "#sk-container-id-5 div.sk-label:hover label.sk-toggleable__label {\n",
       "  color: var(--sklearn-color-text);\n",
       "  background-color: var(--sklearn-color-unfitted-level-2);\n",
       "}\n",
       "\n",
       "/* Label box, darken color on hover, fitted */\n",
       "#sk-container-id-5 div.sk-label.fitted:hover label.sk-toggleable__label.fitted {\n",
       "  color: var(--sklearn-color-text);\n",
       "  background-color: var(--sklearn-color-fitted-level-2);\n",
       "}\n",
       "\n",
       "/* Estimator label */\n",
       "\n",
       "#sk-container-id-5 div.sk-label label {\n",
       "  font-family: monospace;\n",
       "  font-weight: bold;\n",
       "  display: inline-block;\n",
       "  line-height: 1.2em;\n",
       "}\n",
       "\n",
       "#sk-container-id-5 div.sk-label-container {\n",
       "  text-align: center;\n",
       "}\n",
       "\n",
       "/* Estimator-specific */\n",
       "#sk-container-id-5 div.sk-estimator {\n",
       "  font-family: monospace;\n",
       "  border: 1px dotted var(--sklearn-color-border-box);\n",
       "  border-radius: 0.25em;\n",
       "  box-sizing: border-box;\n",
       "  margin-bottom: 0.5em;\n",
       "  /* unfitted */\n",
       "  background-color: var(--sklearn-color-unfitted-level-0);\n",
       "}\n",
       "\n",
       "#sk-container-id-5 div.sk-estimator.fitted {\n",
       "  /* fitted */\n",
       "  background-color: var(--sklearn-color-fitted-level-0);\n",
       "}\n",
       "\n",
       "/* on hover */\n",
       "#sk-container-id-5 div.sk-estimator:hover {\n",
       "  /* unfitted */\n",
       "  background-color: var(--sklearn-color-unfitted-level-2);\n",
       "}\n",
       "\n",
       "#sk-container-id-5 div.sk-estimator.fitted:hover {\n",
       "  /* fitted */\n",
       "  background-color: var(--sklearn-color-fitted-level-2);\n",
       "}\n",
       "\n",
       "/* Specification for estimator info (e.g. \"i\" and \"?\") */\n",
       "\n",
       "/* Common style for \"i\" and \"?\" */\n",
       "\n",
       ".sk-estimator-doc-link,\n",
       "a:link.sk-estimator-doc-link,\n",
       "a:visited.sk-estimator-doc-link {\n",
       "  float: right;\n",
       "  font-size: smaller;\n",
       "  line-height: 1em;\n",
       "  font-family: monospace;\n",
       "  background-color: var(--sklearn-color-background);\n",
       "  border-radius: 1em;\n",
       "  height: 1em;\n",
       "  width: 1em;\n",
       "  text-decoration: none !important;\n",
       "  margin-left: 0.5em;\n",
       "  text-align: center;\n",
       "  /* unfitted */\n",
       "  border: var(--sklearn-color-unfitted-level-1) 1pt solid;\n",
       "  color: var(--sklearn-color-unfitted-level-1);\n",
       "}\n",
       "\n",
       ".sk-estimator-doc-link.fitted,\n",
       "a:link.sk-estimator-doc-link.fitted,\n",
       "a:visited.sk-estimator-doc-link.fitted {\n",
       "  /* fitted */\n",
       "  border: var(--sklearn-color-fitted-level-1) 1pt solid;\n",
       "  color: var(--sklearn-color-fitted-level-1);\n",
       "}\n",
       "\n",
       "/* On hover */\n",
       "div.sk-estimator:hover .sk-estimator-doc-link:hover,\n",
       ".sk-estimator-doc-link:hover,\n",
       "div.sk-label-container:hover .sk-estimator-doc-link:hover,\n",
       ".sk-estimator-doc-link:hover {\n",
       "  /* unfitted */\n",
       "  background-color: var(--sklearn-color-unfitted-level-3);\n",
       "  color: var(--sklearn-color-background);\n",
       "  text-decoration: none;\n",
       "}\n",
       "\n",
       "div.sk-estimator.fitted:hover .sk-estimator-doc-link.fitted:hover,\n",
       ".sk-estimator-doc-link.fitted:hover,\n",
       "div.sk-label-container:hover .sk-estimator-doc-link.fitted:hover,\n",
       ".sk-estimator-doc-link.fitted:hover {\n",
       "  /* fitted */\n",
       "  background-color: var(--sklearn-color-fitted-level-3);\n",
       "  color: var(--sklearn-color-background);\n",
       "  text-decoration: none;\n",
       "}\n",
       "\n",
       "/* Span, style for the box shown on hovering the info icon */\n",
       ".sk-estimator-doc-link span {\n",
       "  display: none;\n",
       "  z-index: 9999;\n",
       "  position: relative;\n",
       "  font-weight: normal;\n",
       "  right: .2ex;\n",
       "  padding: .5ex;\n",
       "  margin: .5ex;\n",
       "  width: min-content;\n",
       "  min-width: 20ex;\n",
       "  max-width: 50ex;\n",
       "  color: var(--sklearn-color-text);\n",
       "  box-shadow: 2pt 2pt 4pt #999;\n",
       "  /* unfitted */\n",
       "  background: var(--sklearn-color-unfitted-level-0);\n",
       "  border: .5pt solid var(--sklearn-color-unfitted-level-3);\n",
       "}\n",
       "\n",
       ".sk-estimator-doc-link.fitted span {\n",
       "  /* fitted */\n",
       "  background: var(--sklearn-color-fitted-level-0);\n",
       "  border: var(--sklearn-color-fitted-level-3);\n",
       "}\n",
       "\n",
       ".sk-estimator-doc-link:hover span {\n",
       "  display: block;\n",
       "}\n",
       "\n",
       "/* \"?\"-specific style due to the `<a>` HTML tag */\n",
       "\n",
       "#sk-container-id-5 a.estimator_doc_link {\n",
       "  float: right;\n",
       "  font-size: 1rem;\n",
       "  line-height: 1em;\n",
       "  font-family: monospace;\n",
       "  background-color: var(--sklearn-color-background);\n",
       "  border-radius: 1rem;\n",
       "  height: 1rem;\n",
       "  width: 1rem;\n",
       "  text-decoration: none;\n",
       "  /* unfitted */\n",
       "  color: var(--sklearn-color-unfitted-level-1);\n",
       "  border: var(--sklearn-color-unfitted-level-1) 1pt solid;\n",
       "}\n",
       "\n",
       "#sk-container-id-5 a.estimator_doc_link.fitted {\n",
       "  /* fitted */\n",
       "  border: var(--sklearn-color-fitted-level-1) 1pt solid;\n",
       "  color: var(--sklearn-color-fitted-level-1);\n",
       "}\n",
       "\n",
       "/* On hover */\n",
       "#sk-container-id-5 a.estimator_doc_link:hover {\n",
       "  /* unfitted */\n",
       "  background-color: var(--sklearn-color-unfitted-level-3);\n",
       "  color: var(--sklearn-color-background);\n",
       "  text-decoration: none;\n",
       "}\n",
       "\n",
       "#sk-container-id-5 a.estimator_doc_link.fitted:hover {\n",
       "  /* fitted */\n",
       "  background-color: var(--sklearn-color-fitted-level-3);\n",
       "}\n",
       "</style><div id=\"sk-container-id-5\" class=\"sk-top-container\"><div class=\"sk-text-repr-fallback\"><pre>RandomForestClassifier(random_state=42)</pre><b>In a Jupyter environment, please rerun this cell to show the HTML representation or trust the notebook. <br />On GitHub, the HTML representation is unable to render, please try loading this page with nbviewer.org.</b></div><div class=\"sk-container\" hidden><div class=\"sk-item\"><div class=\"sk-estimator fitted sk-toggleable\"><input class=\"sk-toggleable__control sk-hidden--visually\" id=\"sk-estimator-id-5\" type=\"checkbox\" checked><label for=\"sk-estimator-id-5\" class=\"sk-toggleable__label fitted sk-toggleable__label-arrow\"><div><div>RandomForestClassifier</div></div><div><a class=\"sk-estimator-doc-link fitted\" rel=\"noreferrer\" target=\"_blank\" href=\"https://scikit-learn.org/1.6/modules/generated/sklearn.ensemble.RandomForestClassifier.html\">?<span>Documentation for RandomForestClassifier</span></a><span class=\"sk-estimator-doc-link fitted\">i<span>Fitted</span></span></div></label><div class=\"sk-toggleable__content fitted\"><pre>RandomForestClassifier(random_state=42)</pre></div> </div></div></div></div>"
      ],
      "text/plain": [
       "RandomForestClassifier(random_state=42)"
      ]
     },
     "execution_count": 122,
     "metadata": {},
     "output_type": "execute_result"
    }
   ],
   "source": [
    "from sklearn.ensemble import RandomForestClassifier\n",
    "model = RandomForestClassifier(random_state=42)\n",
    "model.fit(X_train, y_train)"
   ]
  },
  {
   "cell_type": "code",
   "execution_count": 123,
   "id": "a4cc8174-ab29-437b-b984-3fa542eced5f",
   "metadata": {},
   "outputs": [
    {
     "name": "stdout",
     "output_type": "stream",
     "text": [
      "Accuracy: 0.5233333333333333\n",
      "\n",
      "Classification Report:\n",
      "               precision    recall  f1-score   support\n",
      "\n",
      "      Member       0.52      0.52      0.52       149\n",
      "      Normal       0.53      0.52      0.52       151\n",
      "\n",
      "    accuracy                           0.52       300\n",
      "   macro avg       0.52      0.52      0.52       300\n",
      "weighted avg       0.52      0.52      0.52       300\n",
      "\n",
      "\n",
      "Confusion Matrix:\n",
      " [[78 71]\n",
      " [72 79]]\n"
     ]
    }
   ],
   "source": [
    "from sklearn.metrics import accuracy_score, classification_report, confusion_matrix\n",
    "y_pred = model.predict(X_test)\n",
    "print(\"Accuracy:\", accuracy_score(y_test, y_pred))\n",
    "print(\"\\nClassification Report:\\n\", classification_report(y_test, y_pred))\n",
    "print(\"\\nConfusion Matrix:\\n\", confusion_matrix(y_test, y_pred))"
   ]
  },
  {
   "cell_type": "code",
   "execution_count": 124,
   "id": "b10abf6d-0f16-4ee4-9d1f-14e0709fca29",
   "metadata": {},
   "outputs": [],
   "source": [
    "import pandas as pd\n",
    "df = pd.read_csv(r\"C:/Users/admin/Desktop/Project2/Walmart-Sales-Data-Analysis--SQL-Project-main/Walmart Sales Data.csv.csv\")"
   ]
  },
  {
   "cell_type": "code",
   "execution_count": 125,
   "id": "412b7ec3-4a27-4ae1-841d-8b33ca3247c9",
   "metadata": {},
   "outputs": [],
   "source": [
    "df.to_csv(r\"C:/Users/admin/Desktop/Project2/Walmart-Sales-Data-Analysis--SQL-Project-main/cleaned_walmart_data.csv\", index=False)"
   ]
  }
 ],
 "metadata": {
  "kernelspec": {
   "display_name": "Python 3 (ipykernel)",
   "language": "python",
   "name": "python3"
  },
  "language_info": {
   "codemirror_mode": {
    "name": "ipython",
    "version": 3
   },
   "file_extension": ".py",
   "mimetype": "text/x-python",
   "name": "python",
   "nbconvert_exporter": "python",
   "pygments_lexer": "ipython3",
   "version": "3.12.3"
  }
 },
 "nbformat": 4,
 "nbformat_minor": 5
}
